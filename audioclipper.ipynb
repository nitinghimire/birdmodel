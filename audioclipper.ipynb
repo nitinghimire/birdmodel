{
 "cells": [
  {
   "cell_type": "code",
   "execution_count": 1,
   "id": "5c28ef54-891a-49b4-a858-f6864f150dda",
   "metadata": {
    "tags": []
   },
   "outputs": [],
   "source": [
    "from pydub import AudioSegment, silence\n",
    "import os\n",
    "\n",
    "def split_audio(input_file, min_silence_length_ms, min_segment_length_ms, max_segment_length_ms, silence_thresh=-40):\n",
    "    audio = AudioSegment.from_file(input_file)\n",
    "\n",
    "    # Detect the silent parts of the audio\n",
    "    silent_ranges = silence.detect_silence(audio, min_silence_len=min_silence_length_ms, silence_thresh=silence_thresh)\n",
    "\n",
    "    # Initialize the start and end points for splitting\n",
    "    start_ms = 0\n",
    "    segment_count = 1\n",
    "\n",
    "    # Get the directory and base filename of the input file\n",
    "    input_directory = os.path.dirname(input_file)\n",
    "    base_filename = os.path.splitext(os.path.basename(input_file))[0]\n",
    "\n",
    "    # Split the audio into segments based on silent parts\n",
    "    for (start, end) in silent_ranges:\n",
    "        if start > start_ms and (end - start_ms) >= min_segment_length_ms:\n",
    "            segment_length = end - start_ms if (end - start_ms) <= max_segment_length_ms else max_segment_length_ms\n",
    "            segment = audio[start_ms:start_ms + segment_length]\n",
    "\n",
    "            # Check if the segment is within the desired duration range\n",
    "            if (segment_length >= min_segment_length_ms) and (segment_length <= max_segment_length_ms):\n",
    "                # Generate the output filename based on the original filename\n",
    "                output_file = os.path.join(input_directory, f\"{base_filename}_segment{segment_count}.mp3\")\n",
    "                segment.export(output_file, format=\"mp3\")\n",
    "                segment_count += 1\n",
    "\n",
    "            # Update the start point for the next segment\n",
    "            start_ms = end\n",
    "\n",
    "    # Export the last segment if there's any audio remaining\n",
    "    if start_ms < len(audio):\n",
    "        remaining_segment = audio[start_ms:]\n",
    "        if len(remaining_segment) >= min_segment_length_ms:\n",
    "            output_file = os.path.join(input_directory, f\"{base_filename}_segment{segment_count}.mp3\")\n",
    "            remaining_segment.export(output_file, format=\"mp3\")\n",
    "\n",
    "# Directory containing the input audio files (change this to your directory)\n",
    "input_audio_directory = \"data/blackstork\"\n",
    "\n",
    "# Minimum silence length to consider as a gap (in milliseconds)\n",
    "min_silence_length_ms = 10\n",
    "\n",
    "# Minimum and maximum segment lengths (in milliseconds)\n",
    "min_segment_length_ms = 2000  # 2 seconds\n",
    "max_segment_length_ms = 5000  # 5 seconds\n",
    "\n",
    "# Loop through all audio files in the directory and split them\n",
    "for input_file in os.listdir(input_audio_directory):\n",
    "    if input_file.endswith('.mp3'):\n",
    "        input_path = os.path.join(input_audio_directory, input_file)\n",
    "        split_audio(input_path, min_silence_length_ms, min_segment_length_ms, max_segment_length_ms)\n"
   ]
  },
  {
   "cell_type": "code",
   "execution_count": null,
   "id": "25ec0f34-8efc-49ab-ad60-2075895a6fa6",
   "metadata": {},
   "outputs": [],
   "source": []
  }
 ],
 "metadata": {
  "kernelspec": {
   "display_name": "tensorflow10gpu",
   "language": "python",
   "name": "tensorflow10gpu"
  },
  "language_info": {
   "codemirror_mode": {
    "name": "ipython",
    "version": 3
   },
   "file_extension": ".py",
   "mimetype": "text/x-python",
   "name": "python",
   "nbconvert_exporter": "python",
   "pygments_lexer": "ipython3",
   "version": "3.10.0"
  }
 },
 "nbformat": 4,
 "nbformat_minor": 5
}
