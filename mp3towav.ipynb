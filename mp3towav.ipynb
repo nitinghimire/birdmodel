{
 "cells": [
  {
   "cell_type": "code",
   "execution_count": 4,
   "id": "6f35490c-f8f8-45fa-8d8a-8f2302bc4a31",
   "metadata": {
    "tags": []
   },
   "outputs": [
    {
     "name": "stdout",
     "output_type": "stream",
     "text": [
      "Error processing XC421070 - Black Stork - Ciconia nigra_segment22.mp3: list index out of range\n",
      "Error processing XC421074 - Black Stork - Ciconia nigra_segment109.mp3: list index out of range\n",
      "Conversion and file deletion complete.\n"
     ]
    }
   ],
   "source": [
    "from pydub import AudioSegment\n",
    "import os\n",
    "\n",
    "# Directory containing your MP3 files\n",
    "mp3_directory = 'data/blackstork'\n",
    "\n",
    "# Ensure the directory exists\n",
    "if not os.path.exists(mp3_directory):\n",
    "    print(f\"The directory '{mp3_directory}' does not exist.\")\n",
    "    exit()\n",
    "\n",
    "# List all files in the directory\n",
    "mp3_files = os.listdir(mp3_directory)\n",
    "\n",
    "for mp3_file in mp3_files:\n",
    "    if mp3_file.endswith(\".mp3\"):\n",
    "        mp3_path = os.path.join(mp3_directory, mp3_file)\n",
    "        wav_file = os.path.splitext(mp3_file)[0] + \".wav\"\n",
    "        wav_path = os.path.join(mp3_directory, wav_file)\n",
    "\n",
    "        try:\n",
    "            # Load the MP3 file\n",
    "            audio = AudioSegment.from_mp3(mp3_path)\n",
    "\n",
    "            # Export the audio as WAV with the original filename\n",
    "            audio.export(wav_path, format=\"wav\")\n",
    "\n",
    "            # Delete the original MP3 file\n",
    "            os.remove(mp3_path)\n",
    "\n",
    "            print(f\"Converted {mp3_file} to {wav_file} and deleted {mp3_file}\")\n",
    "        except Exception as e:\n",
    "            print(f\"Error processing {mp3_file}: {e}\")\n",
    "\n",
    "print(\"Conversion and file deletion complete.\")\n"
   ]
  },
  {
   "cell_type": "code",
   "execution_count": null,
   "id": "45d5584b-9c5b-4263-9ec3-097feedac684",
   "metadata": {},
   "outputs": [],
   "source": []
  }
 ],
 "metadata": {
  "kernelspec": {
   "display_name": "tensorflow10gpu",
   "language": "python",
   "name": "tensorflow10gpu"
  },
  "language_info": {
   "codemirror_mode": {
    "name": "ipython",
    "version": 3
   },
   "file_extension": ".py",
   "mimetype": "text/x-python",
   "name": "python",
   "nbconvert_exporter": "python",
   "pygments_lexer": "ipython3",
   "version": "3.10.0"
  }
 },
 "nbformat": 4,
 "nbformat_minor": 5
}
